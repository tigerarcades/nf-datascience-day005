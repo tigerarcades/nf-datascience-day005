{
 "cells": [
  {
   "cell_type": "markdown",
   "metadata": {},
   "source": [
    "# Introductory Notes\n",
    "\n",
    "Throughout this entire notebook you should be experimenting with the code in the non-text cells. A great way to begin to get a feel for Python is by playing with it. So have some fun by changing the values in the cells and then running them again with Shift-Enter. Before you do, think about what you expect the output to be, and make sure your intuition matches up with what you run. If it doesn't, take some time to think about what happened so you can hone your intuition.\n",
    "\n",
    "At the end of each section there will be some questions to help further your understanding. Remember, in Python we can always manually test code by running it; however, you should try to think about the answers to these questions before you run some code. This way you can check and verify your understanding of the section's topic.\n",
    "\n",
    "#### Calling Functions with Positional Versus Keyword Arguments\n",
    "\n",
    "We'll refer to this function below: \n",
    "\n",
    "```python \n",
    "def get_multiples(n=5, divisor=2): \n",
    "    multiples_lst = []\n",
    "    for element in range(n): \n",
    "        if element % divisor == 0: \n",
    "            multiples_lst.append(element)\n",
    "    return multiples_lst\n",
    "```\n",
    "\n",
    "So far, when we call a function and pass arguments to it we have seen Python assign those arguments to the correct parameters (for example, 5 to `n` and 2 to `divisor`, above). But how exactly does this happen - how does Python know that when we call `get_multiples(5, 2)`, 5 should get assigned to `n` and 2 should get assigned to `divisor`? \n",
    "\n",
    "It turns out that, by default, Python simply matches up the position of the arguments that are passed in with the position of the parameters that are given in the function definition. In our `get_multiples(5, 2)` call, it takes the first argument passed, `5`, and assigns that to the first parameter in the function definition, `n`. Similarly, it takes the second argument passed, `2`, and assigns it to the second parameter in the function definition, `divisor`. This method of passing arguments is **by position**, and the arguments `5` and `2` in this example are considered to be **positional arguments**.\n",
    "\n",
    "As you might have guessed from the title of this section, there is another method of passing arguments, and that is **by keyword**. The way this works is that instead of passing just the values in the function call, we call the values with the parameter name that they correspond to followed by an equals sign. Building off of our example above, using **keyword arguments** would mean our function call would look like this: `get_multiples(n=5, divisor=2)`.\n",
    "\n",
    "Okay, got it! But, there are one or two more things that we need to cover with regards to this topic. In the above examples, we used either **all** positional arguments or **all** keyword arguments. However, there is the possibility that we can use a mixture of positional and keyword arguments if we'd like. The only caveat is that we have to pass all positional arguments **before** passing any keyword arguments. For example:\n"
   ]
  },
  {
   "cell_type": "code",
   "execution_count": 1,
   "metadata": {
    "collapsed": true
   },
   "outputs": [],
   "source": [
    "def get_multiples(n=5, divisor=2): \n",
    "    multiples_lst = []\n",
    "    for element in range(n): \n",
    "        if element % divisor == 0: \n",
    "            multiples_lst.append(element)\n",
    "    return multiples_lst"
   ]
  },
  {
   "cell_type": "code",
   "execution_count": 2,
   "metadata": {},
   "outputs": [
    {
     "data": {
      "text/plain": [
       "[0, 2, 4]"
      ]
     },
     "execution_count": 2,
     "metadata": {},
     "output_type": "execute_result"
    }
   ],
   "source": [
    "get_multiples(5, 2) # All arguments passed by position."
   ]
  },
  {
   "cell_type": "code",
   "execution_count": 3,
   "metadata": {},
   "outputs": [
    {
     "data": {
      "text/plain": [
       "[0, 2, 4]"
      ]
     },
     "execution_count": 3,
     "metadata": {},
     "output_type": "execute_result"
    }
   ],
   "source": [
    "get_multiples(n=5, divisor=2) # All arguments passed by keyword."
   ]
  },
  {
   "cell_type": "code",
   "execution_count": 4,
   "metadata": {},
   "outputs": [
    {
     "data": {
      "text/plain": [
       "[0, 3, 6, 9]"
      ]
     },
     "execution_count": 4,
     "metadata": {},
     "output_type": "execute_result"
    }
   ],
   "source": [
    "get_multiples(10, divisor=3) # Okay mix of positional and keyword arguments."
   ]
  },
  {
   "cell_type": "code",
   "execution_count": 5,
   "metadata": {},
   "outputs": [
    {
     "ename": "SyntaxError",
     "evalue": "non-keyword arg after keyword arg (<ipython-input-5-9b3b2b40b7ee>, line 1)",
     "output_type": "error",
     "traceback": [
      "\u001b[0;36m  File \u001b[0;32m\"<ipython-input-5-9b3b2b40b7ee>\"\u001b[0;36m, line \u001b[0;32m1\u001b[0m\n\u001b[0;31m    get_multiples(n=10, 3) # Not okay mix of positional and keyword arguments.\u001b[0m\n\u001b[0;31mSyntaxError\u001b[0m\u001b[0;31m:\u001b[0m non-keyword arg after keyword arg\n"
     ]
    }
   ],
   "source": [
    "get_multiples(n=10, 3) # Not okay mix of positional and keyword arguments."
   ]
  },
  {
   "cell_type": "markdown",
   "metadata": {},
   "source": [
    "##### Positional versus Keyword Arguments Questions\n",
    "\n",
    "1. Which one of the following functions passes arguments by position, and which by keyword?\n",
    "    1. get_multiples(26, 2)\n",
    "    2. get_multiples(n=35, divisor=7)\n",
    "2. Which of the following function calls are valid? Why?\n",
    "    1. ```python \n",
    "       get_multiples(26, 13)\n",
    "       ```\n",
    "    2. ```python \n",
    "       get_multiples(n=26, 13)\n",
    "       ```\n",
    "    3. ```python \n",
    "       get_multiples(26, divisor=13)\n",
    "       ```\n",
    "    4. ```python \n",
    "       get_multiples(n=26, divisor=13)\n",
    "       ```\n",
    "    5. ```python \n",
    "       get_multiples(n=48, 8)\n",
    "       ```\n",
    "    6. ```python \n",
    "       get_multiples(50, divisor=10)\n",
    "       ```\n",
    "       \n",
    "3. Verify your answers by typing these into cells, or figure out why you don't see the results you expected. \n",
    "\n",
    "\n",
    "### Variable Scope\n",
    "\n",
    "Variable scope is a topic in and of itself, but up until now we haven't really had a good reason to discuss it. **Variable scope** is going to define the part (or block) of your program in which a variable is visible. We typically refer to one of two scopes for variables - **global** scope and **local** scope. A variable with **global** scope is visible everywhere. It can be used anywhere in your script, including any of the functions you have written (it can even be used inside of a function written inside of a function). A variable with **local** scope, on the other hand, is only visible in the scope in which it is enclosed (typically a function).\n",
    "\n",
    "When referencing a variable, Python will search the following scopes (in order) to resolve the reference:\n",
    "\n",
    "1. The current function's scope.\n",
    "2. Any enclosing scopes (like other containing functions).\n",
    "3. The scope of the module (i.e. script) that contains the code (often referred to as the **global** scope).\n",
    "4. The built-in scope (contains the built-in functions).\n",
    "\n",
    "This is kind of a confusing concept to grasp, so let's look at a concrete example.\n",
    "\n",
    "```python\n",
    "In [1]: my_global_var = 5\n",
    "\n",
    "In [2]: def my_test_func():\n",
    "   ...:     print \"My global variable:\",  my_global_var # Accessible and will print.\n",
    "   ...:     my_local_var = 10 # Only accessible in my_test_func.\n",
    "   ...:     print \"My local variable:\", my_local_var  \n",
    "   ...:\n",
    "\n",
    "In [3]: my_global_var # Remember it's accessible anywhere.\n",
    "Out[3]: 5\n",
    "\n",
    "In [4]: my_test_func()\n",
    "My global variable: 5\n",
    "My local variable: 10\n",
    "\n",
    "In [5]: print my_local_var\n",
    "NameError                                 Traceback (most recent call last)\n",
    "<ipython-input-4-b0b2b2a41781> in <module>()\n",
    "    > 1 print my_local_var\n",
    "\n",
    "NameError: name 'my_local_var' is not defined\n",
    "```\n",
    "\n",
    "Notice that `my_global_var` is accessible anywhere - both inside and outside of our function. This is because it is in the **global scope**. `my_local_var`, on the other hand, was defined within `my_test_func`. As a result, it is enclosed within the scope of `my_test_func`, and not accessible outside of it.   \n"
   ]
  },
  {
   "cell_type": "code",
   "execution_count": null,
   "metadata": {
    "collapsed": true
   },
   "outputs": [],
   "source": []
  }
 ],
 "metadata": {
  "kernelspec": {
   "display_name": "Python 3",
   "language": "python",
   "name": "python3"
  },
  "language_info": {
   "codemirror_mode": {
    "name": "ipython",
    "version": 3
   },
   "file_extension": ".py",
   "mimetype": "text/x-python",
   "name": "python",
   "nbconvert_exporter": "python",
   "pygments_lexer": "ipython3",
   "version": "3.7.3"
  }
 },
 "nbformat": 4,
 "nbformat_minor": 1
}
