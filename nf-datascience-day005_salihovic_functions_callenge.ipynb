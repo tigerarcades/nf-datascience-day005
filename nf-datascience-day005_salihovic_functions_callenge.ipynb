{
 "cells": [
  {
   "cell_type": "markdown",
   "metadata": {},
   "source": [
    "# Assignment Questions"
   ]
  },
  {
   "cell_type": "markdown",
   "metadata": {},
   "source": [
    "## Basic assignment 1\n",
    "Write a function that computes the factorial for an inputted number."
   ]
  },
  {
   "cell_type": "code",
   "execution_count": null,
   "metadata": {},
   "outputs": [],
   "source": [
    "def factorial(n):\n",
    "    if n == 0 or n == 1:\n",
    "        return 1\n",
    "    return n * factorial(n - 1)"
   ]
  },
  {
   "cell_type": "markdown",
   "metadata": {},
   "source": [
    "## Basic assignment 2\n",
    "Write a function that determines whether or not an inputted number is prime, and then prints `'The number you inputted is a prime/ not a prime number.'` depending on what your script finds (note that this means putting a `print` in front of the function when testing it will be redundant for this case)."
   ]
  },
  {
   "cell_type": "code",
   "execution_count": null,
   "metadata": {},
   "outputs": [],
   "source": [
    "def basic_prime_test(n):\n",
    "    if n == 1 or n == 2 or n == 3:\n",
    "        return True\n",
    "    if n % 2 == 0:\n",
    "        return False\n",
    "    for i in range(2, n):\n",
    "        if n == i:\n",
    "            return True\n",
    "        if n % i == 0:\n",
    "            return False\n",
    "    return True"
   ]
  },
  {
   "cell_type": "code",
   "execution_count": null,
   "metadata": {},
   "outputs": [],
   "source": [
    "assert basic_prime_test(1)\n",
    "assert basic_prime_test(2)\n",
    "assert basic_prime_test(3)\n",
    "assert not basic_prime_test(4)\n",
    "assert basic_prime_test(5)\n",
    "assert not basic_prime_test(6)\n",
    "assert basic_prime_test(7)\n",
    "assert not basic_prime_test(8)\n",
    "assert not basic_prime_test(9)"
   ]
  },
  {
   "cell_type": "code",
   "execution_count": null,
   "metadata": {},
   "outputs": [],
   "source": [
    "def is_prime(n):\n",
    "    if basic_prime_test(n):\n",
    "        return 'The number you inputted is a prime number.'\n",
    "    else:\n",
    "        return 'The number you inputted is not a prime number.'"
   ]
  },
  {
   "cell_type": "code",
   "execution_count": null,
   "metadata": {},
   "outputs": [],
   "source": [
    "assert 'The number you inputted is a prime number.' == is_prime(3)\n",
    "assert 'The number you inputted is not a prime number.' == is_prime(4)"
   ]
  },
  {
   "cell_type": "markdown",
   "metadata": {},
   "source": [
    "## Advanced assignment 1\n",
    "Write a function that counts the number of words in an inputted string, where we consider words to be separated by spaces."
   ]
  },
  {
   "cell_type": "code",
   "execution_count": null,
   "metadata": {},
   "outputs": [],
   "source": [
    "def word_count(string):\n",
    "    return len(string.split(' '))"
   ]
  },
  {
   "cell_type": "markdown",
   "metadata": {},
   "source": [
    "## Advanced assignment 2\n",
    "Write a function that counts the number of words in an inputted string, where we consider words to be separated by a specified delimiter (so your function should accept two arguments, one for the string and one for the delimiter) and a space is defined as the default delimiter."
   ]
  },
  {
   "cell_type": "code",
   "execution_count": null,
   "metadata": {},
   "outputs": [],
   "source": [
    "def word_count(string, delimiter=' '):\n",
    "    return len(string.split(delimiter))"
   ]
  },
  {
   "cell_type": "markdown",
   "metadata": {},
   "source": [
    "## Advanced assignment 3\n",
    "Write a function that takes in a string, and returns a list that holds the length of each word in the phrase, separated by an inputted delimiter (so you're function should accept two arguments again). Make a space the default delimiter like you did in 2. For example, if the arguments to your function were This is a test string (and nothing else), your function should return `[4, 2, 1, 4, 6]`. Go ahead and don't worry about removing punctuation (you can include it in the word length - e.g. \"this.\" has five letters, if we count the period)."
   ]
  },
  {
   "cell_type": "code",
   "execution_count": null,
   "metadata": {},
   "outputs": [],
   "source": [
    "def word_length(string, delimiter=' '):\n",
    "    return list(map(lambda w: len(w), string.split(' ')))"
   ]
  },
  {
   "cell_type": "code",
   "execution_count": null,
   "metadata": {},
   "outputs": [],
   "source": [
    "assert [3, 3, 5] == word_length(\"one two three\")"
   ]
  },
  {
   "cell_type": "markdown",
   "metadata": {},
   "source": [
    "## Advanced assignment 4\n",
    "Write a function that returns all the prime numbers up to an inputted number (Hint: It might be helpful to use/modify the prime function you wrote earlier)."
   ]
  },
  {
   "cell_type": "code",
   "execution_count": null,
   "metadata": {},
   "outputs": [],
   "source": [
    "def all_primes(n):\n",
    "    return [i for i in range(n + 1) if basic_prime_test(i)]"
   ]
  },
  {
   "cell_type": "code",
   "execution_count": null,
   "metadata": {},
   "outputs": [],
   "source": [
    "assert [1, 2, 3, 5, 7, 11, 13, 17] == all_primes(17)"
   ]
  },
  {
   "cell_type": "markdown",
   "metadata": {},
   "source": [
    "## Advanced assignment 5\n",
    "Write a function that takes in a list of numbers, as well as an additional number (i.e. two arguments), and returns a list of yes or no depending on whether each number in the list is divisible by the second number. For example, if I input `[10, 25, 36, 12, 20]` as the list of numbers, and 5 as the additional number, your function should return `['yes', 'yes', 'no', 'no', 'yes']`."
   ]
  },
  {
   "cell_type": "code",
   "execution_count": null,
   "metadata": {},
   "outputs": [],
   "source": [
    "def is_devidable(dividents, divisor):\n",
    "    return list(map(lambda d: 'yes' if d % divisor == 0 else 'no', dividents))"
   ]
  },
  {
   "cell_type": "code",
   "execution_count": null,
   "metadata": {},
   "outputs": [],
   "source": [
    "assert ['yes', 'yes', 'no', 'no', 'yes'] == is_devidable([10, 25, 36, 12, 20], 5)"
   ]
  },
  {
   "cell_type": "markdown",
   "metadata": {},
   "source": [
    "## Advanced assignment 6\n",
    "Write a function that takes in a list of strings, as well as an inputted letter (which looks like a string with a single character), and returns a list of only those strings from the input list that end with that letter. For example, if I input `['I', 'am', 'in', 'love', 'with', 'Python']` as the list of strings, and n as the inputted letter, your function should return `['in', 'Python']`."
   ]
  },
  {
   "cell_type": "code",
   "execution_count": null,
   "metadata": {},
   "outputs": [],
   "source": [
    "def words_which_end_with(words, char):\n",
    "    return list(filter(lambda word: word.endswith(char), words))"
   ]
  },
  {
   "cell_type": "code",
   "execution_count": null,
   "metadata": {},
   "outputs": [],
   "source": [
    "assert ['in', 'Python'] == words_which_end_with(['I', 'am', 'in', 'love', 'with', 'Python'], 'n')"
   ]
  },
  {
   "cell_type": "markdown",
   "metadata": {},
   "source": [
    "## Advanced assignment 7\n",
    "Write a function that takes in a list of strings, as well as an inputted substring (i.e. another string), and returns a list of the indices of the strings that contain that inputted substring. For example, if I input `['This', 'is, 'an' , 'example']` as the list of strings, and `is` as the substring, your function should return `[0, 1]`"
   ]
  },
  {
   "cell_type": "code",
   "execution_count": null,
   "metadata": {},
   "outputs": [],
   "source": [
    "def substring_indices(words, substring):\n",
    "    return list(map(lambda word: word.find(substring), words))"
   ]
  },
  {
   "cell_type": "code",
   "execution_count": null,
   "metadata": {},
   "outputs": [],
   "source": [
    "assert [2, 0, -1, -1] == substring_indices(['This', 'is', 'an', 'example'], 'is')"
   ]
  }
 ],
 "metadata": {
  "kernelspec": {
   "display_name": "Python 3",
   "language": "python",
   "name": "python3"
  },
  "language_info": {
   "codemirror_mode": {
    "name": "ipython",
    "version": 3
   },
   "file_extension": ".py",
   "mimetype": "text/x-python",
   "name": "python",
   "nbconvert_exporter": "python",
   "pygments_lexer": "ipython3",
   "version": "3.7.3"
  }
 },
 "nbformat": 4,
 "nbformat_minor": 2
}
